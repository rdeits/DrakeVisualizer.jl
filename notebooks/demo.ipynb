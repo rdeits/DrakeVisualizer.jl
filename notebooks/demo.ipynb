{
 "cells": [
  {
   "cell_type": "markdown",
   "metadata": {},
   "source": [
    "# DrakeVisualizer.jl\n",
    "This notebook demonstrates interacting with the Drake Visualizer app from Julia. On Mac and Ubuntu, just installing `DrakeVisualizer.jl` will also install a pre-built version of the standalone `drake-visualizer` executable. \n",
    "\n",
    "If you're not on one of those platforms, you'll need to install Director (which includes `drake-visualizer`) from <https://github.com/robotlocomotion/director>"
   ]
  },
  {
   "cell_type": "code",
   "execution_count": null,
   "metadata": {},
   "outputs": [],
   "source": [
    "# Optional: \n",
    "# These commands tell the Julia package manager to use the exact\n",
    "# set of dependencies specified in the Project.toml and\n",
    "# Manifest.toml files in this folder. That should\n",
    "# give you a nice, reproducible environment for testing. \n",
    "\n",
    "using Pkg\n",
    "Pkg.activate(@__DIR__)\n",
    "Pkg.instantiate()"
   ]
  },
  {
   "cell_type": "code",
   "execution_count": null,
   "metadata": {},
   "outputs": [],
   "source": [
    "# Activate the DrakeVisualizer package, and import some other \n",
    "# useful functions\n",
    "using DrakeVisualizer\n",
    "using CoordinateTransformations\n",
    "using GeometryTypes: GeometryTypes, HyperRectangle, Vec, HomogenousMesh\n",
    "using ColorTypes: RGBA"
   ]
  },
  {
   "cell_type": "code",
   "execution_count": null,
   "metadata": {},
   "outputs": [],
   "source": [
    "# Launch the viewer application if it isn't running already:\n",
    "DrakeVisualizer.any_open_windows() || DrakeVisualizer.new_window();"
   ]
  },
  {
   "cell_type": "code",
   "execution_count": null,
   "metadata": {},
   "outputs": [],
   "source": [
    "# First, we'll create a simple geometric object\n",
    "box = HyperRectangle(Vec(0.,0,0), Vec(1.,1,1))"
   ]
  },
  {
   "cell_type": "code",
   "execution_count": null,
   "metadata": {},
   "outputs": [],
   "source": [
    "# Visualizer() causes the viewer to spawn a geometry or a set of geometries. \n",
    "# It returns a Visualizer, which includes all the information\n",
    "# about that loaded geometry. \n",
    "# Note that the model is initially loaded in the zero configuration \n",
    "# (that is, its position and rotation are all zeros)\n",
    "model = Visualizer(box)"
   ]
  },
  {
   "cell_type": "code",
   "execution_count": null,
   "metadata": {},
   "outputs": [],
   "source": [
    "# We can use settransform!() to tell the viewer to draw the box at a specific\n",
    "# position. Translation() creates a CoordinateTransformations.Transformation\n",
    "# corresponding to the given x; y; z translation.\n",
    "settransform!(model, Translation(1.,0,0))"
   ]
  },
  {
   "cell_type": "code",
   "execution_count": null,
   "metadata": {},
   "outputs": [],
   "source": [
    "# We can also rotate the model by sending a different transformation\n",
    "settransform!(model, LinearMap(AngleAxis(pi/4, 0, 0, 1)))"
   ]
  },
  {
   "cell_type": "code",
   "execution_count": null,
   "metadata": {},
   "outputs": [],
   "source": [
    "# And we can clear the box\n",
    "delete!(model)"
   ]
  },
  {
   "cell_type": "code",
   "execution_count": null,
   "metadata": {},
   "outputs": [],
   "source": [
    "# Now let's make some more complicated robots. We'll create a \n",
    "# new GeometryData from the box, but color it green this time.\n",
    "green_box = GeometryData(box, RGBA(0., 1, 0, 0.5))\n",
    "model = Visualizer(green_box)"
   ]
  },
  {
   "cell_type": "code",
   "execution_count": null,
   "metadata": {},
   "outputs": [],
   "source": [
    "delete!(model)"
   ]
  },
  {
   "cell_type": "markdown",
   "metadata": {},
   "source": [
    "# The Viewer Tree\n",
    "\n",
    "Now that we've introduced the basics of loading and transforming geometries, it's time to introduce the tree model used by DrakeVisualizer.jl. The idea is pretty simple:\n",
    "\n",
    "* A Visualizer contains a *tree* of geometries\n",
    "* We add, draw, and delete geometries by using their *path*, which is the path from the root of the tree to that geometry\n",
    "* We can set the transform for any node in the tree. Setting the transform for a node in the tree affects all of its descendant geometries. \n"
   ]
  },
  {
   "cell_type": "code",
   "execution_count": null,
   "metadata": {},
   "outputs": [],
   "source": [
    "# First, we make an empty visualizer:\n",
    "vis = Visualizer()"
   ]
  },
  {
   "cell_type": "code",
   "execution_count": null,
   "metadata": {},
   "outputs": [],
   "source": [
    "# We can access a particular path within the visualizer with indexing notation:\n",
    "vis[:group1]"
   ]
  },
  {
   "cell_type": "code",
   "execution_count": null,
   "metadata": {},
   "outputs": [],
   "source": [
    "# We load geometries using the same path notation:\n",
    "green_box_vis = setgeometry!(vis[:group1][:greenbox], green_box)"
   ]
  },
  {
   "cell_type": "markdown",
   "metadata": {},
   "source": [
    "Check out the Scene Browser in the drake visualizer app. You should see folder:\n",
    "\n",
    "    scene\n",
    "      | remote tree viewer\n",
    "          | group1\n",
    "              | greenbox\n",
    "\n",
    "  "
   ]
  },
  {
   "cell_type": "code",
   "execution_count": null,
   "metadata": {},
   "outputs": [],
   "source": [
    "# And we set transforms in the same way:\n",
    "settransform!(green_box_vis, Translation(0, 0, 1))"
   ]
  },
  {
   "cell_type": "code",
   "execution_count": null,
   "metadata": {},
   "outputs": [],
   "source": [
    "# The same indexing notation makes it easy to get a handle to a \n",
    "# particular part of the viewer tree:\n",
    "group1 = vis[:group1]\n",
    "settransform!(group1, Translation(0, 0, -1))"
   ]
  },
  {
   "cell_type": "markdown",
   "metadata": {},
   "source": [
    "The viewer tree becomes much more interesting (and useful) when we have multiple geometries. Let's add another geometry in the same group:"
   ]
  },
  {
   "cell_type": "code",
   "execution_count": null,
   "metadata": {},
   "outputs": [],
   "source": [
    "setgeometry!(vis[:group1][:bluebox], GeometryData(box, RGBA(0, 0, 1, 0.5)))"
   ]
  },
  {
   "cell_type": "markdown",
   "metadata": {},
   "source": [
    "The scene browser will now show:\n",
    "\n",
    "    scene\n",
    "      | remote tree viewer\n",
    "          | group1\n",
    "              | greenbox\n",
    "              | bluebox"
   ]
  },
  {
   "cell_type": "markdown",
   "metadata": {},
   "source": [
    "Since both the green and blue box are inside `group1`, we can move them together by transforming that whole group:"
   ]
  },
  {
   "cell_type": "code",
   "execution_count": null,
   "metadata": {},
   "outputs": [],
   "source": [
    "settransform!(vis[:group1], Translation(1, 0, 0))"
   ]
  },
  {
   "cell_type": "markdown",
   "metadata": {},
   "source": [
    "Or we can move just the green box:"
   ]
  },
  {
   "cell_type": "code",
   "execution_count": null,
   "metadata": {},
   "outputs": [],
   "source": [
    "settransform!(vis[:group1][:greenbox], Translation(0, 1, 0))"
   ]
  },
  {
   "cell_type": "markdown",
   "metadata": {},
   "source": [
    "The final pose of each geometry in the tree is just the composition of all of the transforms in the path from the root of the tree to that geometry. "
   ]
  },
  {
   "cell_type": "markdown",
   "metadata": {},
   "source": [
    "Likewise, we can delete an entire group:"
   ]
  },
  {
   "cell_type": "code",
   "execution_count": null,
   "metadata": {},
   "outputs": [],
   "source": [
    "delete!(vis[:group1])"
   ]
  },
  {
   "cell_type": "code",
   "execution_count": null,
   "metadata": {},
   "outputs": [],
   "source": [
    "# Of course, we can draw much more interesting geometries than \n",
    "# just simple boxes. Let's load a 3D mesh and visualize it:\n",
    "using MeshIO\n",
    "using FileIO\n",
    "cat_mesh = load(joinpath(dirname(pathof(GeometryTypes)), \"..\", \"test\", \"data\", \"cat.obj\"))\n",
    "\n",
    "model = Visualizer(cat_mesh);\n",
    "settransform!(model, LinearMap(AngleAxis(pi/2, 1, 0, 0)))"
   ]
  },
  {
   "cell_type": "code",
   "execution_count": null,
   "metadata": {},
   "outputs": [],
   "source": [
    "delete!(model)"
   ]
  },
  {
   "cell_type": "code",
   "execution_count": null,
   "metadata": {},
   "outputs": [],
   "source": [
    "# Next, let's create a triangulated mesh by finding\n",
    "# the 0-level set of some function. \n",
    "# \n",
    "# First, we'll define our function:\n",
    "f = x -> sum(sin, 5 * x)\n",
    "\n",
    "# Then we pick a region of interest in which to sample the function.\n",
    "# This region starts at (-1, -1, -1) and extends to (1, 1, 1):\n",
    "lower_bound = Vec(-1.,-1,-1)\n",
    "upper_bound = Vec(1., 1, 1)\n",
    "\n",
    "# Those two pieces of information are all we need to construct a robot\n",
    "# geometry. For this, we'll need the contour_mesh function:\n",
    "mesh = contour_mesh(f, lower_bound, upper_bound)\n",
    "# Under the hood, this will sample f at regularly spaced points inside\n",
    "# the bounding rectangle, then compute a surface that connects all the \n",
    "# points for which f(x) = 0.\n",
    "\n",
    "# And now we can load that geometry into the visualizer\n",
    "model = Visualizer(mesh)"
   ]
  },
  {
   "cell_type": "code",
   "execution_count": null,
   "metadata": {},
   "outputs": [],
   "source": [
    "delete!(model)"
   ]
  },
  {
   "cell_type": "markdown",
   "metadata": {},
   "source": [
    "# Batching for Better Performance\n",
    "\n",
    "Each time you call `setgeometry!()`, `settransform!()`, or `delete!()`, there is some communication between Julia and the Drake Visualizer application. That communication can take time, so if you are loading or drawing many geometries simultaneously, then you may want to batch those operations. Batching is easy. Instead of doing this:\n"
   ]
  },
  {
   "cell_type": "code",
   "execution_count": null,
   "metadata": {},
   "outputs": [],
   "source": [
    "vis = Visualizer()\n",
    "setgeometry!(vis[:group1][:box1], green_box)\n",
    "setgeometry!(vis[:group1][:box2], green_box)\n",
    "settransform!(vis[:group1], Translation(0, 1, 0))\n",
    "settransform!(vis[:group1][:box1], Translation(1, 0, 0))"
   ]
  },
  {
   "cell_type": "markdown",
   "metadata": {},
   "source": [
    "Just put all the commands inside a call to `batch()`:"
   ]
  },
  {
   "cell_type": "code",
   "execution_count": null,
   "metadata": {},
   "outputs": [],
   "source": [
    "vis = Visualizer()\n",
    "batch(vis) do v\n",
    "    setgeometry!(v[:group1][:box1], green_box)\n",
    "    setgeometry!(v[:group1][:box2], green_box)\n",
    "    settransform!(v[:group1], Translation(0, 1, 0))\n",
    "    settransform!(v[:group1][:box1], Translation(1, 0, 0))\n",
    "end"
   ]
  },
  {
   "cell_type": "markdown",
   "metadata": {},
   "source": [
    "The above syntax will perform exactly the same drawing operations, but will only send one message to the viewer at the end of the `batch()` call. "
   ]
  },
  {
   "cell_type": "code",
   "execution_count": null,
   "metadata": {},
   "outputs": [],
   "source": [
    "delete!(vis)"
   ]
  },
  {
   "cell_type": "markdown",
   "metadata": {},
   "source": [
    "# More Geometry Types\n",
    "\n",
    "`DrakeVisualizer` supports a few extra types of geometry that you may want to visualize. One such geometry is a point cloud: "
   ]
  },
  {
   "cell_type": "code",
   "execution_count": null,
   "metadata": {},
   "outputs": [],
   "source": [
    "# A PointCloud can be constructed from a vector of points.\n",
    "# The easiest way to represent a point is just a standard Julia vector:\n",
    "pointcloud = PointCloud([[x, 0, 0] for x in range(-1, stop=1, length=50)])\n",
    "setgeometry!(vis[:pointcloud], pointcloud)\n",
    "\n",
    "# For more efficient point clouds, try using a vector of\n",
    "# StaticArrays.SVector types. "
   ]
  },
  {
   "cell_type": "code",
   "execution_count": null,
   "metadata": {},
   "outputs": [],
   "source": [
    "using ColorTypes: RGB"
   ]
  },
  {
   "cell_type": "code",
   "execution_count": null,
   "metadata": {},
   "outputs": [],
   "source": [
    "# PointClouds can also have \"channels\" which describe their\n",
    "# data. One useful channel is the :rgb channel:\n",
    "delete!(vis[:pointcloud])\n",
    "pointcloud.channels[:rgb] = [RGB(0, g, 0) for g in range(0, stop=1, length=50)]\n",
    "setgeometry!(vis[:pointcloud], pointcloud)"
   ]
  },
  {
   "cell_type": "code",
   "execution_count": null,
   "metadata": {},
   "outputs": [],
   "source": [
    "delete!(vis)"
   ]
  },
  {
   "cell_type": "code",
   "execution_count": null,
   "metadata": {},
   "outputs": [],
   "source": [
    "# Close the viewer:\n",
    "# kill(proc)"
   ]
  }
 ],
 "metadata": {
  "@webio": {
   "lastCommId": "802dbde996f140c4850191e992e4fd34",
   "lastKernelId": "cf699830-d365-4dc7-84b5-6f35f7abf242"
  },
  "kernelspec": {
   "display_name": "Julia 1.1.0",
   "language": "julia",
   "name": "julia-1.1"
  },
  "language_info": {
   "file_extension": ".jl",
   "mimetype": "application/julia",
   "name": "julia",
   "version": "1.1.0"
  }
 },
 "nbformat": 4,
 "nbformat_minor": 1
}
